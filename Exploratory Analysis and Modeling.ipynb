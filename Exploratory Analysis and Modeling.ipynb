{
 "cells": [
  {
   "cell_type": "code",
   "execution_count": 1,
   "metadata": {},
   "outputs": [],
   "source": [
    "import pandas as pd # for data processing and exploration\n",
    "import seaborn as sns\n",
    "import matplotlib.pyplot as plt\n",
    "import numpy as np # linear algebra\n",
    "import scipy\n",
    "import json # load in data from scraper"
   ]
  },
  {
   "cell_type": "code",
   "execution_count": 2,
   "metadata": {},
   "outputs": [
    {
     "data": {
      "text/plain": [
       "RK        object\n",
       "PLAYER    object\n",
       "GP        object\n",
       "MPG       object\n",
       "TS%       object\n",
       "AST       object\n",
       "TO        object\n",
       "USG       object\n",
       "ORR       object\n",
       "DRR       object\n",
       "REBR      object\n",
       "PER       object\n",
       "VA        object\n",
       "EWA       object\n",
       "dtype: object"
      ]
     },
     "execution_count": 2,
     "metadata": {},
     "output_type": "execute_result"
    }
   ],
   "source": [
    "with open('nba_player_stats.json') as f:\n",
    "    data = json.load(f)\n",
    "df = pd.DataFrame(data)\n",
    "df.dtypes"
   ]
  },
  {
   "cell_type": "code",
   "execution_count": 3,
   "metadata": {},
   "outputs": [],
   "source": [
    "df[['GP','MPG','TS%','AST','TO','USG','ORR','DRR','REBR','PER','VA','EWA']] = df[['GP','MPG','TS%','AST','TO','USG','ORR',\n",
    "                                                                                  'DRR','REBR','PER','VA','EWA']].apply(pd.to_numeric)\n",
    "df.drop(['RK','PLAYER'], axis=1, inplace=True)"
   ]
  },
  {
   "cell_type": "markdown",
   "metadata": {},
   "source": [
    "#### Convert the columns to numeric values, in this case mostly floats, and drop the 'RK' and 'PLAYER' columns as they are not needed."
   ]
  },
  {
   "cell_type": "code",
   "execution_count": 4,
   "metadata": {},
   "outputs": [
    {
     "name": "stdout",
     "output_type": "stream",
     "text": [
      "GP        int64\n",
      "MPG     float64\n",
      "TS%     float64\n",
      "AST     float64\n",
      "TO      float64\n",
      "USG     float64\n",
      "ORR     float64\n",
      "DRR     float64\n",
      "REBR    float64\n",
      "PER     float64\n",
      "VA      float64\n",
      "EWA     float64\n",
      "dtype: object\n"
     ]
    },
    {
     "data": {
      "text/html": [
       "<div>\n",
       "<style scoped>\n",
       "    .dataframe tbody tr th:only-of-type {\n",
       "        vertical-align: middle;\n",
       "    }\n",
       "\n",
       "    .dataframe tbody tr th {\n",
       "        vertical-align: top;\n",
       "    }\n",
       "\n",
       "    .dataframe thead th {\n",
       "        text-align: right;\n",
       "    }\n",
       "</style>\n",
       "<table border=\"1\" class=\"dataframe\">\n",
       "  <thead>\n",
       "    <tr style=\"text-align: right;\">\n",
       "      <th></th>\n",
       "      <th>GP</th>\n",
       "      <th>MPG</th>\n",
       "      <th>TS%</th>\n",
       "      <th>AST</th>\n",
       "      <th>TO</th>\n",
       "      <th>USG</th>\n",
       "      <th>ORR</th>\n",
       "      <th>DRR</th>\n",
       "      <th>REBR</th>\n",
       "      <th>PER</th>\n",
       "      <th>VA</th>\n",
       "      <th>EWA</th>\n",
       "    </tr>\n",
       "  </thead>\n",
       "  <tbody>\n",
       "    <tr>\n",
       "      <th>0</th>\n",
       "      <td>75</td>\n",
       "      <td>39.4</td>\n",
       "      <td>0.564</td>\n",
       "      <td>15.0</td>\n",
       "      <td>7.1</td>\n",
       "      <td>32.6</td>\n",
       "      <td>5.0</td>\n",
       "      <td>14.6</td>\n",
       "      <td>9.5</td>\n",
       "      <td>31.01</td>\n",
       "      <td>452.0</td>\n",
       "      <td>15.1</td>\n",
       "    </tr>\n",
       "    <tr>\n",
       "      <th>1</th>\n",
       "      <td>67</td>\n",
       "      <td>37.8</td>\n",
       "      <td>0.602</td>\n",
       "      <td>10.7</td>\n",
       "      <td>10.1</td>\n",
       "      <td>27.8</td>\n",
       "      <td>11.0</td>\n",
       "      <td>21.6</td>\n",
       "      <td>16.5</td>\n",
       "      <td>29.43</td>\n",
       "      <td>356.2</td>\n",
       "      <td>11.9</td>\n",
       "    </tr>\n",
       "    <tr>\n",
       "      <th>2</th>\n",
       "      <td>82</td>\n",
       "      <td>41.5</td>\n",
       "      <td>0.550</td>\n",
       "      <td>16.0</td>\n",
       "      <td>9.6</td>\n",
       "      <td>31.1</td>\n",
       "      <td>3.0</td>\n",
       "      <td>15.3</td>\n",
       "      <td>9.3</td>\n",
       "      <td>27.07</td>\n",
       "      <td>420.6</td>\n",
       "      <td>14.0</td>\n",
       "    </tr>\n",
       "    <tr>\n",
       "      <th>3</th>\n",
       "      <td>82</td>\n",
       "      <td>40.5</td>\n",
       "      <td>0.553</td>\n",
       "      <td>20.4</td>\n",
       "      <td>9.4</td>\n",
       "      <td>25.0</td>\n",
       "      <td>9.0</td>\n",
       "      <td>28.5</td>\n",
       "      <td>18.8</td>\n",
       "      <td>26.46</td>\n",
       "      <td>370.8</td>\n",
       "      <td>12.4</td>\n",
       "    </tr>\n",
       "    <tr>\n",
       "      <th>4</th>\n",
       "      <td>81</td>\n",
       "      <td>39.3</td>\n",
       "      <td>0.564</td>\n",
       "      <td>14.1</td>\n",
       "      <td>11.1</td>\n",
       "      <td>25.7</td>\n",
       "      <td>10.0</td>\n",
       "      <td>27.3</td>\n",
       "      <td>19.0</td>\n",
       "      <td>26.46</td>\n",
       "      <td>355.0</td>\n",
       "      <td>11.8</td>\n",
       "    </tr>\n",
       "  </tbody>\n",
       "</table>\n",
       "</div>"
      ],
      "text/plain": [
       "   GP   MPG    TS%   AST    TO   USG   ORR   DRR  REBR    PER     VA   EWA\n",
       "0  75  39.4  0.564  15.0   7.1  32.6   5.0  14.6   9.5  31.01  452.0  15.1\n",
       "1  67  37.8  0.602  10.7  10.1  27.8  11.0  21.6  16.5  29.43  356.2  11.9\n",
       "2  82  41.5  0.550  16.0   9.6  31.1   3.0  15.3   9.3  27.07  420.6  14.0\n",
       "3  82  40.5  0.553  20.4   9.4  25.0   9.0  28.5  18.8  26.46  370.8  12.4\n",
       "4  81  39.3  0.564  14.1  11.1  25.7  10.0  27.3  19.0  26.46  355.0  11.8"
      ]
     },
     "execution_count": 4,
     "metadata": {},
     "output_type": "execute_result"
    }
   ],
   "source": [
    "print(df.dtypes)\n",
    "df.head()"
   ]
  },
  {
   "cell_type": "code",
   "execution_count": 5,
   "metadata": {},
   "outputs": [
    {
     "data": {
      "text/html": [
       "<div>\n",
       "<style scoped>\n",
       "    .dataframe tbody tr th:only-of-type {\n",
       "        vertical-align: middle;\n",
       "    }\n",
       "\n",
       "    .dataframe tbody tr th {\n",
       "        vertical-align: top;\n",
       "    }\n",
       "\n",
       "    .dataframe thead th {\n",
       "        text-align: right;\n",
       "    }\n",
       "</style>\n",
       "<table border=\"1\" class=\"dataframe\">\n",
       "  <thead>\n",
       "    <tr style=\"text-align: right;\">\n",
       "      <th></th>\n",
       "      <th>GP</th>\n",
       "      <th>MPG</th>\n",
       "      <th>TS%</th>\n",
       "      <th>AST</th>\n",
       "      <th>TO</th>\n",
       "      <th>USG</th>\n",
       "      <th>ORR</th>\n",
       "      <th>DRR</th>\n",
       "      <th>REBR</th>\n",
       "      <th>PER</th>\n",
       "      <th>VA</th>\n",
       "      <th>EWA</th>\n",
       "    </tr>\n",
       "  </thead>\n",
       "  <tbody>\n",
       "    <tr>\n",
       "      <th>count</th>\n",
       "      <td>6115.000000</td>\n",
       "      <td>6115.000000</td>\n",
       "      <td>6115.000000</td>\n",
       "      <td>6115.000000</td>\n",
       "      <td>6115.000000</td>\n",
       "      <td>6115.000000</td>\n",
       "      <td>6115.000000</td>\n",
       "      <td>6115.000000</td>\n",
       "      <td>6115.000000</td>\n",
       "      <td>6115.00000</td>\n",
       "      <td>6115.000000</td>\n",
       "      <td>6115.000000</td>\n",
       "    </tr>\n",
       "    <tr>\n",
       "      <th>mean</th>\n",
       "      <td>65.404906</td>\n",
       "      <td>24.466214</td>\n",
       "      <td>0.534835</td>\n",
       "      <td>16.139052</td>\n",
       "      <td>10.986656</td>\n",
       "      <td>18.200998</td>\n",
       "      <td>5.283238</td>\n",
       "      <td>14.728324</td>\n",
       "      <td>10.004677</td>\n",
       "      <td>14.29972</td>\n",
       "      <td>99.341635</td>\n",
       "      <td>3.312412</td>\n",
       "    </tr>\n",
       "    <tr>\n",
       "      <th>std</th>\n",
       "      <td>14.148873</td>\n",
       "      <td>7.839895</td>\n",
       "      <td>0.049002</td>\n",
       "      <td>7.939031</td>\n",
       "      <td>2.841155</td>\n",
       "      <td>4.836675</td>\n",
       "      <td>3.829322</td>\n",
       "      <td>5.872838</td>\n",
       "      <td>4.543605</td>\n",
       "      <td>4.30648</td>\n",
       "      <td>138.126919</td>\n",
       "      <td>4.604463</td>\n",
       "    </tr>\n",
       "    <tr>\n",
       "      <th>min</th>\n",
       "      <td>17.000000</td>\n",
       "      <td>7.000000</td>\n",
       "      <td>0.338000</td>\n",
       "      <td>1.200000</td>\n",
       "      <td>2.000000</td>\n",
       "      <td>0.000000</td>\n",
       "      <td>0.000000</td>\n",
       "      <td>0.000000</td>\n",
       "      <td>0.000000</td>\n",
       "      <td>0.00000</td>\n",
       "      <td>-208.700000</td>\n",
       "      <td>-7.000000</td>\n",
       "    </tr>\n",
       "    <tr>\n",
       "      <th>25%</th>\n",
       "      <td>56.000000</td>\n",
       "      <td>17.900000</td>\n",
       "      <td>0.504000</td>\n",
       "      <td>10.200000</td>\n",
       "      <td>9.100000</td>\n",
       "      <td>14.700000</td>\n",
       "      <td>2.000000</td>\n",
       "      <td>10.000000</td>\n",
       "      <td>6.300000</td>\n",
       "      <td>11.31000</td>\n",
       "      <td>7.000000</td>\n",
       "      <td>0.200000</td>\n",
       "    </tr>\n",
       "    <tr>\n",
       "      <th>50%</th>\n",
       "      <td>68.000000</td>\n",
       "      <td>24.300000</td>\n",
       "      <td>0.535000</td>\n",
       "      <td>14.200000</td>\n",
       "      <td>10.700000</td>\n",
       "      <td>17.700000</td>\n",
       "      <td>4.000000</td>\n",
       "      <td>13.700000</td>\n",
       "      <td>8.900000</td>\n",
       "      <td>13.88000</td>\n",
       "      <td>58.200000</td>\n",
       "      <td>1.900000</td>\n",
       "    </tr>\n",
       "    <tr>\n",
       "      <th>75%</th>\n",
       "      <td>77.000000</td>\n",
       "      <td>31.000000</td>\n",
       "      <td>0.566000</td>\n",
       "      <td>20.700000</td>\n",
       "      <td>12.500000</td>\n",
       "      <td>21.200000</td>\n",
       "      <td>8.000000</td>\n",
       "      <td>18.600000</td>\n",
       "      <td>13.200000</td>\n",
       "      <td>16.69000</td>\n",
       "      <td>149.800000</td>\n",
       "      <td>5.000000</td>\n",
       "    </tr>\n",
       "    <tr>\n",
       "      <th>max</th>\n",
       "      <td>85.000000</td>\n",
       "      <td>43.100000</td>\n",
       "      <td>0.726000</td>\n",
       "      <td>48.700000</td>\n",
       "      <td>29.600000</td>\n",
       "      <td>42.500000</td>\n",
       "      <td>22.000000</td>\n",
       "      <td>40.000000</td>\n",
       "      <td>26.700000</td>\n",
       "      <td>31.94000</td>\n",
       "      <td>969.200000</td>\n",
       "      <td>32.300000</td>\n",
       "    </tr>\n",
       "  </tbody>\n",
       "</table>\n",
       "</div>"
      ],
      "text/plain": [
       "                GP          MPG          TS%          AST           TO  \\\n",
       "count  6115.000000  6115.000000  6115.000000  6115.000000  6115.000000   \n",
       "mean     65.404906    24.466214     0.534835    16.139052    10.986656   \n",
       "std      14.148873     7.839895     0.049002     7.939031     2.841155   \n",
       "min      17.000000     7.000000     0.338000     1.200000     2.000000   \n",
       "25%      56.000000    17.900000     0.504000    10.200000     9.100000   \n",
       "50%      68.000000    24.300000     0.535000    14.200000    10.700000   \n",
       "75%      77.000000    31.000000     0.566000    20.700000    12.500000   \n",
       "max      85.000000    43.100000     0.726000    48.700000    29.600000   \n",
       "\n",
       "               USG          ORR          DRR         REBR         PER  \\\n",
       "count  6115.000000  6115.000000  6115.000000  6115.000000  6115.00000   \n",
       "mean     18.200998     5.283238    14.728324    10.004677    14.29972   \n",
       "std       4.836675     3.829322     5.872838     4.543605     4.30648   \n",
       "min       0.000000     0.000000     0.000000     0.000000     0.00000   \n",
       "25%      14.700000     2.000000    10.000000     6.300000    11.31000   \n",
       "50%      17.700000     4.000000    13.700000     8.900000    13.88000   \n",
       "75%      21.200000     8.000000    18.600000    13.200000    16.69000   \n",
       "max      42.500000    22.000000    40.000000    26.700000    31.94000   \n",
       "\n",
       "                VA          EWA  \n",
       "count  6115.000000  6115.000000  \n",
       "mean     99.341635     3.312412  \n",
       "std     138.126919     4.604463  \n",
       "min    -208.700000    -7.000000  \n",
       "25%       7.000000     0.200000  \n",
       "50%      58.200000     1.900000  \n",
       "75%     149.800000     5.000000  \n",
       "max     969.200000    32.300000  "
      ]
     },
     "execution_count": 5,
     "metadata": {},
     "output_type": "execute_result"
    }
   ],
   "source": [
    "df.describe()"
   ]
  },
  {
   "cell_type": "code",
   "execution_count": 6,
   "metadata": {},
   "outputs": [
    {
     "data": {
      "text/plain": [
       "<matplotlib.axes._subplots.AxesSubplot at 0x12a901afac0>"
      ]
     },
     "execution_count": 6,
     "metadata": {},
     "output_type": "execute_result"
    },
    {
     "data": {
      "image/png": "[encoded data removed]",
      "text/plain": [
       "<Figure size 432x288 with 1 Axes>"
      ]
     },
     "metadata": {},
     "output_type": "display_data"
    }
   ],
   "source": [
    "sns.set_style(\"whitegrid\")\n",
    "sns.boxplot(y=df['PER'])"
   ]
  },
  {
   "cell_type": "code",
   "execution_count": 7,
   "metadata": {},
   "outputs": [
    {
     "data": {
      "text/plain": [
       "(132, 12)"
      ]
     },
     "execution_count": 7,
     "metadata": {},
     "output_type": "execute_result"
    }
   ],
   "source": [
    "q1,q3 = 11.31, 16.69\n",
    "iqr = q3-q1\n",
    "lower, upper = (q1 - 1.5*(iqr)), (q3 + 1.5*(iqr))\n",
    "outliers = df[(df['PER']>upper)| (df['PER']<lower)]\n",
    "outliers.shape"
   ]
  },
  {
   "cell_type": "markdown",
   "metadata": {},
   "source": [
    "#### Defining outliers "
   ]
  },
  {
   "cell_type": "code",
   "execution_count": 8,
   "metadata": {},
   "outputs": [
    {
     "data": {
      "text/html": [
       "<div>\n",
       "<style scoped>\n",
       "    .dataframe tbody tr th:only-of-type {\n",
       "        vertical-align: middle;\n",
       "    }\n",
       "\n",
       "    .dataframe tbody tr th {\n",
       "        vertical-align: top;\n",
       "    }\n",
       "\n",
       "    .dataframe thead th {\n",
       "        text-align: right;\n",
       "    }\n",
       "</style>\n",
       "<table border=\"1\" class=\"dataframe\">\n",
       "  <thead>\n",
       "    <tr style=\"text-align: right;\">\n",
       "      <th></th>\n",
       "      <th>GP</th>\n",
       "      <th>MPG</th>\n",
       "      <th>TS%</th>\n",
       "      <th>AST</th>\n",
       "      <th>TO</th>\n",
       "      <th>USG</th>\n",
       "      <th>ORR</th>\n",
       "      <th>DRR</th>\n",
       "      <th>REBR</th>\n",
       "      <th>PER</th>\n",
       "      <th>VA</th>\n",
       "      <th>EWA</th>\n",
       "    </tr>\n",
       "  </thead>\n",
       "  <tbody>\n",
       "    <tr>\n",
       "      <th>count</th>\n",
       "      <td>5983.000000</td>\n",
       "      <td>5983.000000</td>\n",
       "      <td>5983.000000</td>\n",
       "      <td>5983.000000</td>\n",
       "      <td>5983.000000</td>\n",
       "      <td>5983.000000</td>\n",
       "      <td>5983.000000</td>\n",
       "      <td>5983.000000</td>\n",
       "      <td>5983.000000</td>\n",
       "      <td>5983.000000</td>\n",
       "      <td>5983.000000</td>\n",
       "      <td>5983.000000</td>\n",
       "    </tr>\n",
       "    <tr>\n",
       "      <th>mean</th>\n",
       "      <td>65.305532</td>\n",
       "      <td>24.246532</td>\n",
       "      <td>0.533630</td>\n",
       "      <td>16.126625</td>\n",
       "      <td>11.006786</td>\n",
       "      <td>17.976049</td>\n",
       "      <td>5.267057</td>\n",
       "      <td>14.600134</td>\n",
       "      <td>9.929768</td>\n",
       "      <td>14.036719</td>\n",
       "      <td>89.505265</td>\n",
       "      <td>2.984556</td>\n",
       "    </tr>\n",
       "    <tr>\n",
       "      <th>std</th>\n",
       "      <td>14.165424</td>\n",
       "      <td>7.731527</td>\n",
       "      <td>0.048409</td>\n",
       "      <td>7.947421</td>\n",
       "      <td>2.851157</td>\n",
       "      <td>4.581613</td>\n",
       "      <td>3.831209</td>\n",
       "      <td>5.777683</td>\n",
       "      <td>4.503146</td>\n",
       "      <td>3.893719</td>\n",
       "      <td>118.139004</td>\n",
       "      <td>3.938349</td>\n",
       "    </tr>\n",
       "    <tr>\n",
       "      <th>min</th>\n",
       "      <td>17.000000</td>\n",
       "      <td>7.000000</td>\n",
       "      <td>0.338000</td>\n",
       "      <td>1.500000</td>\n",
       "      <td>2.000000</td>\n",
       "      <td>0.000000</td>\n",
       "      <td>0.000000</td>\n",
       "      <td>0.000000</td>\n",
       "      <td>0.000000</td>\n",
       "      <td>3.310000</td>\n",
       "      <td>-144.600000</td>\n",
       "      <td>-4.800000</td>\n",
       "    </tr>\n",
       "    <tr>\n",
       "      <th>25%</th>\n",
       "      <td>56.000000</td>\n",
       "      <td>17.900000</td>\n",
       "      <td>0.503000</td>\n",
       "      <td>10.200000</td>\n",
       "      <td>9.100000</td>\n",
       "      <td>14.700000</td>\n",
       "      <td>2.000000</td>\n",
       "      <td>10.000000</td>\n",
       "      <td>6.200000</td>\n",
       "      <td>11.250000</td>\n",
       "      <td>6.400000</td>\n",
       "      <td>0.200000</td>\n",
       "    </tr>\n",
       "    <tr>\n",
       "      <th>50%</th>\n",
       "      <td>68.000000</td>\n",
       "      <td>24.000000</td>\n",
       "      <td>0.534000</td>\n",
       "      <td>14.200000</td>\n",
       "      <td>10.800000</td>\n",
       "      <td>17.600000</td>\n",
       "      <td>4.000000</td>\n",
       "      <td>13.500000</td>\n",
       "      <td>8.800000</td>\n",
       "      <td>13.760000</td>\n",
       "      <td>55.400000</td>\n",
       "      <td>1.800000</td>\n",
       "    </tr>\n",
       "    <tr>\n",
       "      <th>75%</th>\n",
       "      <td>77.000000</td>\n",
       "      <td>30.600000</td>\n",
       "      <td>0.564000</td>\n",
       "      <td>20.700000</td>\n",
       "      <td>12.500000</td>\n",
       "      <td>20.900000</td>\n",
       "      <td>8.000000</td>\n",
       "      <td>18.400000</td>\n",
       "      <td>13.100000</td>\n",
       "      <td>16.500000</td>\n",
       "      <td>139.950000</td>\n",
       "      <td>4.700000</td>\n",
       "    </tr>\n",
       "    <tr>\n",
       "      <th>max</th>\n",
       "      <td>85.000000</td>\n",
       "      <td>42.500000</td>\n",
       "      <td>0.726000</td>\n",
       "      <td>48.700000</td>\n",
       "      <td>29.600000</td>\n",
       "      <td>36.200000</td>\n",
       "      <td>22.000000</td>\n",
       "      <td>40.000000</td>\n",
       "      <td>26.700000</td>\n",
       "      <td>24.740000</td>\n",
       "      <td>669.300000</td>\n",
       "      <td>22.300000</td>\n",
       "    </tr>\n",
       "  </tbody>\n",
       "</table>\n",
       "</div>"
      ],
      "text/plain": [
       "                GP          MPG          TS%          AST           TO  \\\n",
       "count  5983.000000  5983.000000  5983.000000  5983.000000  5983.000000   \n",
       "mean     65.305532    24.246532     0.533630    16.126625    11.006786   \n",
       "std      14.165424     7.731527     0.048409     7.947421     2.851157   \n",
       "min      17.000000     7.000000     0.338000     1.500000     2.000000   \n",
       "25%      56.000000    17.900000     0.503000    10.200000     9.100000   \n",
       "50%      68.000000    24.000000     0.534000    14.200000    10.800000   \n",
       "75%      77.000000    30.600000     0.564000    20.700000    12.500000   \n",
       "max      85.000000    42.500000     0.726000    48.700000    29.600000   \n",
       "\n",
       "               USG          ORR          DRR         REBR          PER  \\\n",
       "count  5983.000000  5983.000000  5983.000000  5983.000000  5983.000000   \n",
       "mean     17.976049     5.267057    14.600134     9.929768    14.036719   \n",
       "std       4.581613     3.831209     5.777683     4.503146     3.893719   \n",
       "min       0.000000     0.000000     0.000000     0.000000     3.310000   \n",
       "25%      14.700000     2.000000    10.000000     6.200000    11.250000   \n",
       "50%      17.600000     4.000000    13.500000     8.800000    13.760000   \n",
       "75%      20.900000     8.000000    18.400000    13.100000    16.500000   \n",
       "max      36.200000    22.000000    40.000000    26.700000    24.740000   \n",
       "\n",
       "                VA          EWA  \n",
       "count  5983.000000  5983.000000  \n",
       "mean     89.505265     2.984556  \n",
       "std     118.139004     3.938349  \n",
       "min    -144.600000    -4.800000  \n",
       "25%       6.400000     0.200000  \n",
       "50%      55.400000     1.800000  \n",
       "75%     139.950000     4.700000  \n",
       "max     669.300000    22.300000  "
      ]
     },
     "execution_count": 8,
     "metadata": {},
     "output_type": "execute_result"
    }
   ],
   "source": [
    "clean_df = df[(df['PER']<upper)&(df['PER']>lower)]\n",
    "clean_df.describe()"
   ]
  },
  {
   "cell_type": "markdown",
   "metadata": {},
   "source": [
    "### Feature selection"
   ]
  },
  {
   "cell_type": "code",
   "execution_count": 9,
   "metadata": {},
   "outputs": [
    {
     "data": {
      "image/png": "[encoded data removed]",
      "text/plain": [
       "<Figure size 864x864 with 2 Axes>"
      ]
     },
     "metadata": {},
     "output_type": "display_data"
    }
   ],
   "source": [
    "corr = clean_df.corr().abs()\n",
    "fig_dims = (12,12)\n",
    "fig, ax = plt.subplots(figsize= fig_dims)\n",
    "sns.heatmap(corr, mask=np.triu(np.ones_like(corr, dtype=np.bool)), ax=ax,cmap='coolwarm',annot=True)\n",
    "plt.yticks(rotation=0)\n",
    "plt.show()"
   ]
  },
  {
   "cell_type": "code",
   "execution_count": 10,
   "metadata": {},
   "outputs": [
    {
     "name": "stdout",
     "output_type": "stream",
     "text": [
      "0.3\n",
      "['MPG', 'TS%', 'USG', 'DRR', 'REBR', 'VA', 'EWA']\n",
      "0.4\n",
      "['MPG', 'TS%', 'USG', 'VA', 'EWA']\n",
      "0.5\n",
      "['MPG', 'TS%', 'USG', 'VA', 'EWA']\n",
      "0.6\n",
      "['USG', 'VA', 'EWA']\n",
      "0.7\n",
      "['VA', 'EWA']\n"
     ]
    }
   ],
   "source": [
    "for val in [0.3,0.4,0.5,0.6,0.7]:\n",
    "    poss = abs(clean_df.corr(method='pearson')['PER'][abs(clean_df.corr(method='pearson')['PER']) > val].drop('PER')).index.tolist()\n",
    "    print(val)\n",
    "    print(poss)"
   ]
  },
  {
   "cell_type": "markdown",
   "metadata": {},
   "source": [
    "#### We can see that ['MPG', 'TS%', 'USG', 'VA', 'EWA'] all correlate with PER, however we also see the EWA and VA are highly correlated with each other, so we can drop the one that is less accurate"
   ]
  },
  {
   "cell_type": "code",
   "execution_count": 11,
   "metadata": {},
   "outputs": [],
   "source": [
    "from sklearn.model_selection import train_test_split\n",
    "from sklearn.linear_model import LinearRegression\n",
    "from sklearn.model_selection import GridSearchCV\n",
    "from sklearn.metrics import r2_score, mean_squared_error, accuracy_score, explained_variance_score\n",
    "from sklearn.model_selection import cross_val_score, KFold"
   ]
  },
  {
   "cell_type": "code",
   "execution_count": 12,
   "metadata": {},
   "outputs": [],
   "source": [
    "features = ['MPG', 'TS%', 'USG', 'VA', 'REBR']\n",
    "X = clean_df[features]\n",
    "y = clean_df['PER']\n",
    "X_train, X_test, y_train, y_test = train_test_split(X, y, test_size = 0.2)"
   ]
  },
  {
   "cell_type": "code",
   "execution_count": 13,
   "metadata": {
    "scrolled": true
   },
   "outputs": [
    {
     "name": "stdout",
     "output_type": "stream",
     "text": [
      "RMSE: 1.3160501001514222\n",
      "R2 score: 0.8836979484673765\n"
     ]
    }
   ],
   "source": [
    "model = LinearRegression()\n",
    "model.fit(X_train, y_train)\n",
    "y_pred = model.predict(X_test)\n",
    "print(\"RMSE:\",np.sqrt(mean_squared_error(y_test,y_pred)))\n",
    "print(\"R2 score:\",r2_score(y_test,y_pred))"
   ]
  },
  {
   "cell_type": "code",
   "execution_count": 14,
   "metadata": {},
   "outputs": [
    {
     "name": "stdout",
     "output_type": "stream",
     "text": [
      "[-1.8961527  -1.72119861 -1.80812418 -1.79742764 -1.64470225]\n",
      "0.8836592081332614\n"
     ]
    }
   ],
   "source": [
    "folds = KFold(n_splits = 5, shuffle = True, random_state = 100)\n",
    "scores = cross_val_score(model, X_train, y_train, scoring='neg_mean_squared_error', cv=folds)\n",
    "adjust_r2= (1 - (1-model.score(X_train, y_train))*(len(y_train)-1)/(len(y_train)-X_train.shape[1]-1))\n",
    "print(scores)\n",
    "print(adjust_r2)"
   ]
  },
  {
   "cell_type": "markdown",
   "metadata": {},
   "source": [
    "#### Testing the RMSE accuracy of a Sci-kit learn regression model to use as a base line when comparing with XGBoost."
   ]
  },
  {
   "cell_type": "markdown",
   "metadata": {},
   "source": [
    "### XGBoost"
   ]
  },
  {
   "cell_type": "code",
   "execution_count": 15,
   "metadata": {},
   "outputs": [],
   "source": [
    "import xgboost\n",
    "from xgboost import plot_importance\n",
    "from sklearn.metrics import mean_squared_error as MSE"
   ]
  },
  {
   "cell_type": "code",
   "execution_count": 16,
   "metadata": {},
   "outputs": [
    {
     "name": "stdout",
     "output_type": "stream",
     "text": [
      "(4786, 5) (1197, 5) (4786,) (1197,)\n"
     ]
    }
   ],
   "source": [
    "print(X_train.shape,X_test.shape,y_train.shape,y_test.shape)"
   ]
  },
  {
   "cell_type": "code",
   "execution_count": 17,
   "metadata": {},
   "outputs": [
    {
     "name": "stdout",
     "output_type": "stream",
     "text": [
      "[0]\tvalidation_0-rmse:9.89940\n",
      "[1]\tvalidation_0-rmse:6.99714\n",
      "[2]\tvalidation_0-rmse:4.97112\n",
      "[3]\tvalidation_0-rmse:3.58457\n",
      "[4]\tvalidation_0-rmse:2.64386\n",
      "[5]\tvalidation_0-rmse:2.01652\n",
      "[6]\tvalidation_0-rmse:1.62987\n",
      "[7]\tvalidation_0-rmse:1.40016\n",
      "[8]\tvalidation_0-rmse:1.26683\n",
      "[9]\tvalidation_0-rmse:1.18866\n",
      "[10]\tvalidation_0-rmse:1.14601\n",
      "[11]\tvalidation_0-rmse:1.12188\n",
      "[12]\tvalidation_0-rmse:1.11004\n",
      "[13]\tvalidation_0-rmse:1.09804\n",
      "[14]\tvalidation_0-rmse:1.09312\n",
      "[15]\tvalidation_0-rmse:1.09273\n",
      "[16]\tvalidation_0-rmse:1.09381\n",
      "[17]\tvalidation_0-rmse:1.09186\n",
      "[18]\tvalidation_0-rmse:1.09253\n",
      "[19]\tvalidation_0-rmse:1.09143\n",
      "[20]\tvalidation_0-rmse:1.09390\n",
      "[21]\tvalidation_0-rmse:1.09446\n",
      "[22]\tvalidation_0-rmse:1.09364\n",
      "[23]\tvalidation_0-rmse:1.09367\n",
      "[24]\tvalidation_0-rmse:1.09350\n",
      "[25]\tvalidation_0-rmse:1.09501\n",
      "[26]\tvalidation_0-rmse:1.09666\n",
      "[27]\tvalidation_0-rmse:1.09664\n",
      "[28]\tvalidation_0-rmse:1.09984\n",
      "[29]\tvalidation_0-rmse:1.09875\n",
      "[30]\tvalidation_0-rmse:1.09928\n",
      "[31]\tvalidation_0-rmse:1.09837\n",
      "[32]\tvalidation_0-rmse:1.09932\n",
      "[33]\tvalidation_0-rmse:1.09985\n",
      "[34]\tvalidation_0-rmse:1.10286\n",
      "[35]\tvalidation_0-rmse:1.10325\n",
      "[36]\tvalidation_0-rmse:1.10347\n",
      "[37]\tvalidation_0-rmse:1.10440\n",
      "[38]\tvalidation_0-rmse:1.10418\n",
      "[39]\tvalidation_0-rmse:1.10312\n",
      "[40]\tvalidation_0-rmse:1.10147\n",
      "[41]\tvalidation_0-rmse:1.10245\n",
      "[42]\tvalidation_0-rmse:1.10184\n",
      "[43]\tvalidation_0-rmse:1.10195\n",
      "[44]\tvalidation_0-rmse:1.10356\n"
     ]
    },
    {
     "data": {
      "text/plain": [
       "XGBRegressor(base_score=0.5, booster='gbtree', colsample_bylevel=1,\n",
       "             colsample_bynode=1, colsample_bytree=1, gamma=0, gpu_id=-1,\n",
       "             importance_type='gain', interaction_constraints='',\n",
       "             learning_rate=0.300000012, max_delta_step=0, max_depth=6,\n",
       "             min_child_weight=1, missing=nan, monotone_constraints='()',\n",
       "             n_estimators=100, n_jobs=12, num_parallel_tree=1, random_state=0,\n",
       "             reg_alpha=0, reg_lambda=1, scale_pos_weight=1, subsample=1,\n",
       "             tree_method='exact', validate_parameters=1, verbosity=None)"
      ]
     },
     "execution_count": 17,
     "metadata": {},
     "output_type": "execute_result"
    }
   ],
   "source": [
    "xgb_model = xgboost.XGBRegressor()\n",
    "xgb_model.fit(X_train,y_train,early_stopping_rounds=25,eval_metric='rmse',eval_set=[(X_test,y_test)],verbose=True)"
   ]
  },
  {
   "cell_type": "code",
   "execution_count": 18,
   "metadata": {
    "scrolled": true
   },
   "outputs": [
    {
     "name": "stdout",
     "output_type": "stream",
     "text": [
      "1.091429156119441\n"
     ]
    }
   ],
   "source": [
    "xgb_y_pred = xgb_model.predict(X_test)\n",
    "print(np.sqrt(MSE(y_test,xgb_y_pred)))"
   ]
  },
  {
   "cell_type": "markdown",
   "metadata": {},
   "source": [
    "#### XGB regressor RMSE score with the cleaned (outliers removed) dataset, and it is seen that the RMSE score for this model is much more accurate than the Sci-kit learn model."
   ]
  },
  {
   "cell_type": "code",
   "execution_count": null,
   "metadata": {},
   "outputs": [],
   "source": []
  }
 ],
 "metadata": {
  "kernelspec": {
   "display_name": "Python 3",
   "language": "python",
   "name": "python3"
  },
  "language_info": {
   "codemirror_mode": {
    "name": "ipython",
    "version": 3
   },
   "file_extension": ".py",
   "mimetype": "text/x-python",
   "name": "python",
   "nbconvert_exporter": "python",
   "pygments_lexer": "ipython3",
   "version": "3.8.3"
  }
 },
 "nbformat": 4,
 "nbformat_minor": 4
}
